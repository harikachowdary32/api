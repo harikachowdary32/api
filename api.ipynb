{
 "cells": [
  {
   "cell_type": "markdown",
   "metadata": {},
   "source": [
    "# create api\n"
   ]
  },
  {
   "cell_type": "code",
   "execution_count": 2,
   "metadata": {},
   "outputs": [
    {
     "ename": "SyntaxError",
     "evalue": "invalid syntax (<ipython-input-2-7289ab4fa5f6>, line 1)",
     "output_type": "error",
     "traceback": [
      "\u001b[1;36m  File \u001b[1;32m\"<ipython-input-2-7289ab4fa5f6>\"\u001b[1;36m, line \u001b[1;32m1\u001b[0m\n\u001b[1;33m    django-admin.py startproject python_tutorial\u001b[0m\n\u001b[1;37m                               ^\u001b[0m\n\u001b[1;31mSyntaxError\u001b[0m\u001b[1;31m:\u001b[0m invalid syntax\n"
     ]
    }
   ],
   "source": [
    "django-admin.py startproject python_tutorial"
   ]
  },
  {
   "cell_type": "code",
   "execution_count": null,
   "metadata": {},
   "outputs": [],
   "source": [
    "python manage.py runserver\n",
    "python manage.py startapp tutorial\n"
   ]
  },
  {
   "cell_type": "markdown",
   "metadata": {},
   "source": [
    "New value of INSTALLED_APPS in .\\python_tutorial\\settings.py\n"
   ]
  },
  {
   "cell_type": "code",
   "execution_count": null,
   "metadata": {},
   "outputs": [],
   "source": [
    "INSTALLED_APPS = (\n",
    "    'django.contrib.admin',\n",
    "    'django.contrib.auth',\n",
    "    'django.contrib.contenttypes',\n",
    "    'django.contrib.sessions',\n",
    "    'django.contrib.messages',\n",
    "    'django.contrib.staticfiles',\n",
    "    'tutorial',\n",
    ")\n"
   ]
  },
  {
   "cell_type": "code",
   "execution_count": null,
   "metadata": {},
   "outputs": [],
   "source": [
    "python manage.py migrate\n",
    "from django.http import HttpResponse, HttpResponseRedirect\n",
    "\n",
    "def home(request):\n",
    "  return HttpResponse(\"Welcome to the tutorial.\")\n"
   ]
  },
  {
   "cell_type": "code",
   "execution_count": null,
   "metadata": {},
   "outputs": [],
   "source": [
    "from django.conf.urls import url\n",
    "from tutorial import views\n",
    "\n",
    "app_name = 'tutorial'\n",
    "urlpatterns = [\n",
    "  # The home view ('/tutorial/')\n",
    "  url(r'^$', views.home, name='home'),\n",
    "  # Explicit home ('/tutorial/home/')\n",
    "  url(r'^home/$', views.home, name='home'),\n",
    "]\n"
   ]
  },
  {
   "cell_type": "markdown",
   "metadata": {},
   "source": [
    "New contents of .\\python_tutorial\\urls.py"
   ]
  },
  {
   "cell_type": "code",
   "execution_count": null,
   "metadata": {},
   "outputs": [],
   "source": [
    "from django.conf.urls import url, include\n",
    "from django.contrib import admin\n",
    "from tutorial import views\n",
    "\n",
    "urlpatterns = [\n",
    "    # Invoke the home view in the tutorial app by default\n",
    "    url(r'^$', views.home, name='home'),\n",
    "    # Defer any URLS to the /tutorial directory to the tutorial app\n",
    "    url(r'^tutorial/', include('tutorial.urls', namespace='tutorial')),\n",
    "    url(r'^admin/', admin.site.urls),\n",
    "]"
   ]
  },
  {
   "cell_type": "markdown",
   "metadata": {},
   "source": [
    "Designing the app"
   ]
  },
  {
   "cell_type": "code",
   "execution_count": null,
   "metadata": {},
   "outputs": [],
   "source": [
    "<!DOCTYPE html>\n",
    "<html>\n",
    "<head>\n",
    "  <title>Python Outlook API Sample</title>\n",
    "  <!-- Latest compiled and minified CSS -->\n",
    "  <link rel=\"stylesheet\" href=\"https://maxcdn.bootstrapcdn.com/bootstrap/3.3.7/css/bootstrap.min.css\" integrity=\"sha384-BVYiiSIFeK1dGmJRAkycuHAHRg32OmUcww7on3RYdg4Va+PmSTsz/K68vbdEjh4u\" crossorigin=\"anonymous\">\n",
    "\n",
    "  <!-- Optional theme -->\n",
    "  <link rel=\"stylesheet\" href=\"https://maxcdn.bootstrapcdn.com/bootstrap/3.3.7/css/bootstrap-theme.min.css\" integrity=\"sha384-rHyoN1iRsVXV4nD0JutlnGaslCJuC7uwjduW9SVrLvRYooPp2bWYgmgJQIXwl/Sp\" crossorigin=\"anonymous\">\n",
    "</head>\n",
    "<body style=\"padding-top: 70px;\">\n",
    "  <nav class=\"navbar navbar-inverse navbar-fixed-top\">\n",
    "    <div class=\"container\">\n",
    "      <div class=\"navbar-header\">\n",
    "        <button type=\"button\" class=\"navbar-toggle collapsed\" data-toggle=\"collapse\" data-target=\"#navbar\" aria-expanded=\"false\" aria-controls=\"navbar\">\n",
    "          <span class=\"sr-only\">Toggle navigation</span>\n",
    "          <span class=\"icon-bar\"></span>\n",
    "          <span class=\"icon-bar\"></span>\n",
    "          <span class=\"icon-bar\"></span>\n",
    "        </button>\n",
    "        <a class=\"navbar-brand\" href=\"/\">Python Outlook Sample</a>\n",
    "      </div>\n",
    "      <div id=\"navbar\" class=\"navbar-collapse collapse\">\n",
    "        <ul class=\"nav navbar-nav authed-nav\">\n",
    "          <li id='home-nav'><a href=\"/\">Home</a></li>\n",
    "          <li id='inbox-nav'><a href=\"/tutorial/mail\">Inbox</a></li>\n",
    "          <li id='calendar-nav'><a href=\"/tutorial/events\">Calendar</a></li>\n",
    "          <li id='contacts-nav'><a href=\"/tutorial/contacts\">Contacts</a></li>\n",
    "        </ul>\n",
    "      </div>\n",
    "    </div>\n",
    "  </nav>\n",
    "\n",
    "  <div class=\"container main-container\">\n",
    "    {% block content %}{% endblock %}\n",
    "  </div>\n",
    "\n",
    "</body>\n",
    "</html>"
   ]
  },
  {
   "cell_type": "code",
   "execution_count": null,
   "metadata": {},
   "outputs": [],
   "source": [
    "from urllib.parse import quote, urlencode\n",
    "import base64\n",
    "import json\n",
    "import time\n",
    "\n",
    "# Client ID and secret\n",
    "client_id = 'YOUR APP ID HERE'\n",
    "client_secret = 'YOUR APP PASSWORD HERE'\n",
    "\n",
    "# Constant strings for OAuth2 flow\n",
    "# The OAuth authority\n",
    "authority = 'https://login.microsoftonline.com'\n",
    "\n",
    "# The authorize URL that initiates the OAuth2 client credential flow for admin consent\n",
    "authorize_url = '{0}{1}'.format(authority, '/common/oauth2/v2.0/authorize?{0}')\n",
    "\n",
    "# The token issuing endpoint\n",
    "token_url = '{0}{1}'.format(authority, '/common/oauth2/v2.0/token')\n",
    "\n",
    "# The scopes required by the app\n",
    "scopes = [ 'openid',\n",
    "           'User.Read',\n",
    "           'Mail.Read' ]\n",
    "\n",
    "def get_signin_url(redirect_uri):\n",
    "  # Build the query parameters for the signin url\n",
    "  params = { 'client_id': client_id,\n",
    "             'redirect_uri': redirect_uri,\n",
    "             'response_type': 'code',\n",
    "             'scope': ' '.join(str(i) for i in scopes)\n",
    "            }\n",
    "\n",
    "  signin_url = authorize_url.format(urlencode(params))\n",
    "\n",
    "  return signin_url"
   ]
  },
  {
   "cell_type": "code",
   "execution_count": null,
   "metadata": {},
   "outputs": [],
   "source": [
    "from django.shortcuts import render\n",
    "from django.http import HttpResponse, HttpResponseRedirect\n",
    "from django.urls import reverse\n",
    "from tutorial.authhelper import get_signin_url\n",
    "\n",
    "# Create your views here.\n",
    "\n",
    "def home(request):\n",
    "  redirect_uri = request.build_absolute_uri(reverse('tutorial:gettoken'))\n",
    "  sign_in_url = get_signin_url(redirect_uri)\n",
    "  context = { 'signin_url': sign_in_url }\n",
    "  return render(request, 'tutorial/home.html', context)\n",
    "\n",
    "def gettoken(request):\n",
    "  return HttpResponse('gettoken view')"
   ]
  },
  {
   "cell_type": "code",
   "execution_count": null,
   "metadata": {},
   "outputs": [],
   "source": []
  }
 ],
 "metadata": {
  "kernelspec": {
   "display_name": "Python 3",
   "language": "python",
   "name": "python3"
  },
  "language_info": {
   "codemirror_mode": {
    "name": "ipython",
    "version": 3
   },
   "file_extension": ".py",
   "mimetype": "text/x-python",
   "name": "python",
   "nbconvert_exporter": "python",
   "pygments_lexer": "ipython3",
   "version": "3.7.3"
  }
 },
 "nbformat": 4,
 "nbformat_minor": 2
}
